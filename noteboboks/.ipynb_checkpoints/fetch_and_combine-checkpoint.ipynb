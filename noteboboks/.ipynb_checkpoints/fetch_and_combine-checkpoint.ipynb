{
 "cells": [
  {
   "cell_type": "code",
   "execution_count": null,
   "id": "e8e7f908-a0d2-4eda-8895-f8500c838898",
   "metadata": {},
   "outputs": [],
   "source": [
    "from fredapi import Fred\n",
    "import pandas as pd\n",
    "\n",
    "# 1. Connect to FRED with your API key\n",
    "fred = Fred(api_key='e916710d165717e6348556cdce8111f3')\n",
    "\n",
    "# 2. Download series (monthly, end‐of‐month)\n",
    "series = {\n",
    "    'CPI_YoY':  'CPIAUCNS',   # CPI all urban consumers\n",
    "    'Unemployment': 'UNRATE', # Unemployment rate (%)\n",
    "    'M2_YoY': 'M2SL',         # M2 money stock (will convert to YoY %)\n",
    "    'FedFunds': 'FEDFUNDS',   # Effective federal funds rate\n",
    "}\n",
    "\n",
    "# Fetch each into a DataFrame\n",
    "df_list = []\n",
    "for name, code in series.items():\n",
    "    s = fred.get_series(code)\n",
    "    s = s.resample('M').last()           # ensure clean monthly index\n",
    "    if name.endswith('_YoY'):\n",
    "        # for M2: compute YoY % change\n",
    "        s = s.pct_change(12) * 100\n",
    "    df_list.append(s.rename(name))\n",
    "\n",
    "# 3. Combine into one DataFrame\n",
    "data = pd.concat(df_list, axis=1)\n",
    "\n",
    "# 4. Load your CPI z‐score & regime labels from the correct directory\n",
    "cpi = pd.read_csv(\n",
    "    r'C:\\Users\\ghkjs\\GitHub\\regime-shift-classification\\data\\processed\\cpi_labeled_regimes.csv',\n",
    "    index_col=0,\n",
    "    parse_dates=True\n",
    ")\n",
    "\n",
    "# 5. Merge all features with the target\n",
    "df = data.join(cpi[['CPI_YoY', 'Zscore', 'Inflation_Regime']], how='inner')\n",
    "\n",
    "# 6. Quick check\n",
    "print(df.tail())\n",
    "\n",
    "# 7. Save for modeling\n",
    "df.to_csv(\n",
    "    r'C:\\Users\\ghkjs\\GitHub\\regime-shift-classification\\data\\processed\\inflation_regime_dataset.csv',\n",
    "    float_format='%.4f'\n",
    ")\n"
   ]
  }
 ],
 "metadata": {
  "kernelspec": {
   "display_name": "Python 3 (ipykernel)",
   "language": "python",
   "name": "python3"
  },
  "language_info": {
   "codemirror_mode": {
    "name": "ipython",
    "version": 3
   },
   "file_extension": ".py",
   "mimetype": "text/x-python",
   "name": "python",
   "nbconvert_exporter": "python",
   "pygments_lexer": "ipython3",
   "version": "3.11.11"
  }
 },
 "nbformat": 4,
 "nbformat_minor": 5
}
