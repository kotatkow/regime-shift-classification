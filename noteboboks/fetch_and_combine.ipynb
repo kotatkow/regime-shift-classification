{
 "cells": [
  {
   "cell_type": "code",
   "execution_count": 3,
   "id": "e8e7f908-a0d2-4eda-8895-f8500c838898",
   "metadata": {},
   "outputs": [
    {
     "name": "stderr",
     "output_type": "stream",
     "text": [
      "C:\\Users\\ghkjs\\AppData\\Local\\Temp\\ipykernel_44612\\203797381.py:19: FutureWarning: 'M' is deprecated and will be removed in a future version, please use 'ME' instead.\n",
      "  s = s.resample('M').last()           # ensure clean monthly index\n"
     ]
    },
    {
     "name": "stdout",
     "output_type": "stream",
     "text": [
      "            Unemployment    M2_YoY  FedFunds   CPI_YoY    Zscore  \\\n",
      "2025-01-31           4.0  3.594553      4.33  3.000483 -0.487322   \n",
      "2025-02-28           4.1  3.606216      4.33  2.821549 -0.563675   \n",
      "2025-03-31           4.2  3.851417      4.33  2.390725 -0.746759   \n",
      "2025-04-30           4.2  4.442374      4.33  2.311289 -0.805370   \n",
      "2025-05-31           4.2  4.500643      4.33  2.354897 -0.818960   \n",
      "\n",
      "            Inflation_Regime  \n",
      "2025-01-31                 0  \n",
      "2025-02-28                 0  \n",
      "2025-03-31                 0  \n",
      "2025-04-30                 0  \n",
      "2025-05-31                 0  \n"
     ]
    }
   ],
   "source": [
    "from fredapi import Fred\n",
    "import pandas as pd\n",
    "\n",
    "# 1. Connect to FRED\n",
    "fred = Fred(api_key='e916710d165717e6348556cdce8111f3')\n",
    "\n",
    "# 2. Download series (monthly, end‐of‐month)\n",
    "series = {\n",
    "    'CPI_YoY':  'CPIAUCNS',   # CPI all urban consumers (we’ll drop this later)\n",
    "    'Unemployment': 'UNRATE', # Unemployment rate (%)\n",
    "    'M2_YoY': 'M2SL',         # M2 money stock (will convert to YoY %)\n",
    "    'FedFunds': 'FEDFUNDS',   # Effective federal funds rate\n",
    "}\n",
    "\n",
    "# Fetch each into a DataFrame\n",
    "df_list = []\n",
    "for name, code in series.items():\n",
    "    s = fred.get_series(code)\n",
    "    s = s.resample('M').last()           # ensure clean monthly index\n",
    "    if name.endswith('_YoY'):\n",
    "        # for CPI_YoY & M2_YoY: compute YoY % change\n",
    "        s = s.pct_change(12) * 100\n",
    "    df_list.append(s.rename(name))\n",
    "\n",
    "# 3. Combine into one DataFrame\n",
    "data = pd.concat(df_list, axis=1)\n",
    "\n",
    "# ── Fix: drop the overlapping CPI_YoY column ────────────────────────────────\n",
    "if 'CPI_YoY' in data.columns:\n",
    "    data = data.drop(columns=['CPI_YoY'])\n",
    "\n",
    "# 4. Load your CPI z‐score & regime labels\n",
    "cpi = pd.read_csv(\n",
    "    r'C:\\Users\\ghkjs\\GitHub\\regime-shift-classification\\data\\processed\\cpi_labeled_regimes.csv',\n",
    "    index_col=0,\n",
    "    parse_dates=True\n",
    ")\n",
    "\n",
    "# 5. Merge all features with the target\n",
    "df = data.join(cpi[['CPI_YoY', 'Zscore', 'Inflation_Regime']], how='inner')\n",
    "\n",
    "# 6. Quick check\n",
    "print(df.tail())\n",
    "\n",
    "# 7. Save for modeling\n",
    "df.to_csv(\n",
    "    r'C:\\Users\\ghkjs\\GitHub\\regime-shift-classification\\data\\processed\\inflation_regime_dataset.csv',\n",
    "    float_format='%.4f'\n",
    ")"
   ]
  },
  {
   "cell_type": "code",
   "execution_count": null,
   "id": "4c2715b7-d13d-4679-b6ee-660be5aca31d",
   "metadata": {},
   "outputs": [],
   "source": []
  }
 ],
 "metadata": {
  "kernelspec": {
   "display_name": "Python 3 (ipykernel)",
   "language": "python",
   "name": "python3"
  },
  "language_info": {
   "codemirror_mode": {
    "name": "ipython",
    "version": 3
   },
   "file_extension": ".py",
   "mimetype": "text/x-python",
   "name": "python",
   "nbconvert_exporter": "python",
   "pygments_lexer": "ipython3",
   "version": "3.11.11"
  }
 },
 "nbformat": 4,
 "nbformat_minor": 5
}
